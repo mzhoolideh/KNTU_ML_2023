{
 "cells": [
  {
   "cell_type": "markdown",
   "metadata": {},
   "source": [
    "# Special Topics I Problem Set 1 (Fundamentals of Python Programming)"
   ]
  },
  {
   "cell_type": "markdown",
   "metadata": {},
   "source": [
    "## Q1: Smallest Multiple"
   ]
  },
  {
   "cell_type": "markdown",
   "metadata": {},
   "source": [
    "Take two numbers named $p$ and $d$ from the user at the input of your program, and then find the smallest multiple of $d$, whose remainder when divided by $p$ is between $0$ and $\\frac{p}{2}$ (inclusive $\\frac{p}{2}$), and print it."
   ]
  },
  {
   "cell_type": "code",
   "execution_count": 1,
   "metadata": {},
   "outputs": [
    {
     "name": "stdout",
     "output_type": "stream",
     "text": [
      "The smallest multiple of 8 with a remainder between 0 and 1 when divided by 2 is: 8\n",
      "5\n"
     ]
    }
   ],
   "source": [
    "p , d = 2 ,8 #int(input(\"Enter the value of p: \")) ,int(input(\"Enter the value of d: \"))\n",
    "res = next(s_m for s_m in range(d, p * d, d) if 0 <= s_m % p <= p // 2)\n",
    "print(f\"The smallest multiple of {d} with a remainder between 0 and {p // 2} when divided by {p} is: {res}\")\n",
    "print(1*5 % 7) \n"
   ]
  },
  {
   "cell_type": "markdown",
   "metadata": {},
   "source": [
    "## Q2: ‌Base 2"
   ]
  },
  {
   "cell_type": "markdown",
   "metadata": {},
   "source": [
    "Write a program that takes the number $n$ as input and prints the sum of digits of number $n$ in base two in the output."
   ]
  },
  {
   "cell_type": "code",
   "execution_count": 6,
   "metadata": {},
   "outputs": [
    {
     "name": "stdout",
     "output_type": "stream",
     "text": [
      "Binary representation of 12: 1100\n",
      "Sum of binary digits: 2\n"
     ]
    }
   ],
   "source": [
    "n = 12 #int(input(\"Enter a number (n): \"))\n",
    "\n",
    "binNum = bin(n)[2:]\n",
    "\n",
    "sumOfOnesInBinNum = sum(map(int, binNum))\n",
    "\n",
    "print(f\"Binary representation of {n}: {binNum}\")\n",
    "print(f\"Sum of binary digits: {sumOfOnesInBinNum}\")\n"
   ]
  },
  {
   "cell_type": "markdown",
   "metadata": {},
   "source": [
    "## Q3: Area"
   ]
  },
  {
   "cell_type": "markdown",
   "metadata": {},
   "source": [
    "Write a program that takes the radius of the circle in the figure below and shows the area of the highlighted part to $4$ decimal places.\n",
    "\n",
    "![](Figure.png \"Figure of Q3\")"
   ]
  },
  {
   "cell_type": "code",
   "execution_count": 25,
   "metadata": {},
   "outputs": [
    {
     "name": "stdout",
     "output_type": "stream",
     "text": [
      "13.73451754256331\n"
     ]
    }
   ],
   "source": [
    "import math\n",
    "radius = 4 #int(input(\"Enter Radius of Circle: \"))\n",
    "highlightedArea = (radius*2)**2-math.pi*radius**2\n",
    "print(highlightedArea)"
   ]
  },
  {
   "cell_type": "markdown",
   "metadata": {},
   "source": [
    "## Q4: Code"
   ]
  },
  {
   "cell_type": "markdown",
   "metadata": {},
   "source": [
    "A safe has $k$ wheels, on each of which there is a sequence of numbers from $0$ to $9$, under each wheel there is a sign that refers to one of the numbers on the wheel and this number changes when the wheel is turned. Now, considering a $k$-digit number as the code, what is the minimum number of rotations of the wheel so that the displayed numbers are equal to the code number?"
   ]
  },
  {
   "cell_type": "code",
   "execution_count": 19,
   "metadata": {},
   "outputs": [
    {
     "name": "stdout",
     "output_type": "stream",
     "text": [
      "Random wheel values: [0, 0, 0, 0, 0]\n",
      "Generated Code: 06597\n",
      "Minimum rotations needed to match the code: 13\n"
     ]
    }
   ],
   "source": [
    "import random as r\n",
    "\n",
    "num_digits = 5  #int(input(\"Enter the number of digits for the code: \"))\n",
    "\n",
    "\n",
    "code = \"21431\" #input(\"Enter the number of digits for the code: \") \n",
    "code = ''.join(str(r.randint(0, 9)) for _ in range(num_digits))\n",
    "# for random code generation (user only inputs digit number of Code)  \n",
    "\n",
    "\n",
    "num_wheels = len(code)\n",
    "wheelVals =  [0] * num_wheels  #[r.randint(0, 9) for _ in range(num_wheels)]\n",
    "\n",
    "totalRotations = sum(min((wheelVals[i] - int(code[i])) % 10, (int(code[i]) - wheelVals[i]) % 10) for i in range(num_wheels))\n",
    "\n",
    "print(f\"Random wheel values: {wheelVals}\")\n",
    "print(f\"Generated Code: {code}\")\n",
    "print(f\"Minimum rotations needed to match the code: {totalRotations}\")\n"
   ]
  },
  {
   "cell_type": "markdown",
   "metadata": {},
   "source": [
    "## Q5: Factorial of the Prime Numbers"
   ]
  },
  {
   "cell_type": "markdown",
   "metadata": {},
   "source": [
    "Write a function called `factorial_of_prime_numbers` that takes a number of numbers from the user as input and returns the prime numbers given to the function along with the factorial of those numbers as a dictionary.\n",
    "\n",
    "### Example 1\n",
    "**In:** `factorial_of_prime_numbers(3, 6, 8, 5)`\n",
    "\n",
    "**Out:** `{3: 6, 5: 120}`\n",
    "\n",
    "### Example 2\n",
    "**In:** `factorial_of_prime_numbers(5, 7)`\n",
    "\n",
    "**Out:** `{5: 120, 7: 5040}`"
   ]
  },
  {
   "cell_type": "code",
   "execution_count": 2,
   "metadata": {},
   "outputs": [
    {
     "name": "stdout",
     "output_type": "stream",
     "text": [
      "Out: {2: 2, 3: 6, 29: 8841761993739701954543616000000, 13: 6227020800, 5: 120, 7: 5040, 17: 355687428096000}\n"
     ]
    }
   ],
   "source": [
    "\n",
    "def factorial_of_prime_numbers(*args):\n",
    "    def isPrime(number):\n",
    "        if number <= 1:\n",
    "            return False\n",
    "        if number <= 3:\n",
    "            return all(number % i != 0 for i in range(2, int(number/2)))\n",
    "        \n",
    "\n",
    "    def factorial(number):\n",
    "        if number < 0:\n",
    "            return None\n",
    "        if number == 0:\n",
    "            return 1\n",
    "        base = 1\n",
    "        for i in range(1, number + 1):\n",
    "            base *= i\n",
    "        return base\n",
    "    arg_dict = {arg: factorial(arg) for arg in args if isPrime(arg)}\n",
    "    result = print(\"Out:\", arg_dict)\n",
    "    \n",
    "    return result\n",
    "\n",
    "factorial_of_prime_numbers(2, 3,27 ,29, 13 ,8 , 5 ,7,2,10,20,17)\n",
    "print(type(n))\n"
   ]
  },
  {
   "cell_type": "markdown",
   "metadata": {},
   "source": [
    "Good luck 😉"
   ]
  }
 ],
 "metadata": {
  "kernelspec": {
   "display_name": "Python 3",
   "language": "python",
   "name": "python3"
  },
  "language_info": {
   "codemirror_mode": {
    "name": "ipython",
    "version": 3
   },
   "file_extension": ".py",
   "mimetype": "text/x-python",
   "name": "python",
   "nbconvert_exporter": "python",
   "pygments_lexer": "ipython3",
   "version": "3.11.1"
  }
 },
 "nbformat": 4,
 "nbformat_minor": 2
}
